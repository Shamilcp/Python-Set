{
 "cells": [
  {
   "cell_type": "code",
   "execution_count": 3,
   "id": "60a7b190",
   "metadata": {},
   "outputs": [
    {
     "name": "stdout",
     "output_type": "stream",
     "text": [
      "min 0\n",
      "max 99\n"
     ]
    }
   ],
   "source": [
    "mytuple=(0,1,3,2,5,8,45,88,99,3,4)\n",
    "print(\"min\",min(mytuple))\n",
    "print(\"max\",max(mytuple))\n"
   ]
  },
  {
   "cell_type": "code",
   "execution_count": 5,
   "id": "4ebe780f",
   "metadata": {},
   "outputs": [
    {
     "name": "stdout",
     "output_type": "stream",
     "text": [
      "(1, 3, 4, 5, 6, 6, 7, 9, 8, 9, 67, 55, 66, 43, 21)\n"
     ]
    }
   ],
   "source": [
    "mytuple1=(1,3,4,5,6,6,7,9,)\n",
    "mytuple2=(8,9,67,55,66,43,21)\n",
    "mytuple=mytuple1+mytuple2\n",
    "print(mytuple)\n"
   ]
  },
  {
   "cell_type": "code",
   "execution_count": 2,
   "id": "634c17bd",
   "metadata": {},
   "outputs": [
    {
     "name": "stdout",
     "output_type": "stream",
     "text": [
      "number:6\n",
      "it occured 1 times\n"
     ]
    }
   ],
   "source": [
    "mytuple=(1,8,2,2,3,6,7,25,67,88,34)\n",
    "x=mytuple.count(int(input(\"number:\")))\n",
    "print(\"it occured\",x,\"times\")\n"
   ]
  },
  {
   "cell_type": "code",
   "execution_count": 2,
   "id": "ff510abe",
   "metadata": {},
   "outputs": [
    {
     "name": "stdout",
     "output_type": "stream",
     "text": [
      "mapped dictionary: {1: 'ford', 2: 'ferrari', 3: 'toyota', 4: 'lamborgini', 5: 'benz'}\n"
     ]
    }
   ],
   "source": [
    "number=(1,2,3,4,5)\n",
    "cars=(\"ford\",\"ferrari\",\"toyota\",\"lamborgini\",\"benz\")\n",
    "res=dict(zip(number,cars))\n",
    "print(\"mapped dictionary:\",res)\n"
   ]
  },
  {
   "cell_type": "code",
   "execution_count": 2,
   "id": "23999539",
   "metadata": {},
   "outputs": [
    {
     "name": "stdout",
     "output_type": "stream",
     "text": [
      "removing number:5\n",
      "(1, 3, 4, 3, 78, 99, 47, 9)\n"
     ]
    }
   ],
   "source": [
    "mytuple=(1,3,4,5,3,78,99,47,5,9)\n",
    "r=int(input(\"removing number:\"))\n",
    "a=tuple(filter(lambda x:x!=r,mytuple))\n",
    "print(a)\n"
   ]
  },
  {
   "cell_type": "code",
   "execution_count": 2,
   "id": "da58e56b",
   "metadata": {},
   "outputs": [
    {
     "name": "stdout",
     "output_type": "stream",
     "text": [
      "(1, 67, 3, 5, 4, 6, 8, 9, 10, 12, 81, 31, 33, 48, 49, 55, 56)\n"
     ]
    }
   ],
   "source": [
    "tup1=(1,33,9,5,8,55,67,49,3,4)\n",
    "tup2=(10,31,6,8,1,48,12,56,81)\n",
    "tup=set(tup1).union(set(tup2))\n",
    "print(tuple(tup))"
   ]
  },
  {
   "cell_type": "code",
   "execution_count": 3,
   "id": "bd8a33a7",
   "metadata": {},
   "outputs": [
    {
     "name": "stdout",
     "output_type": "stream",
     "text": [
      "1\n",
      "2\n",
      "3\n"
     ]
    }
   ],
   "source": [
    "tup=(1,2,3)\n",
    "(a,b,c)=tup\n",
    "print(a)\n",
    "print(b)\n",
    "print(c)\n"
   ]
  },
  {
   "cell_type": "code",
   "execution_count": 5,
   "id": "460f79c4",
   "metadata": {},
   "outputs": [
    {
     "name": "stdout",
     "output_type": "stream",
     "text": [
      "enter number:8\n",
      "2\n"
     ]
    }
   ],
   "source": [
    "tup1=(1,8,3,6,7,96,77,89,2,5)\n",
    "index=tup1.index(int(input(\"enter number:\")))\n",
    "print(index+1)\n"
   ]
  },
  {
   "cell_type": "code",
   "execution_count": 6,
   "id": "4178f456",
   "metadata": {},
   "outputs": [
    {
     "name": "stdout",
     "output_type": "stream",
     "text": [
      "enter number:2\n",
      "9\n"
     ]
    }
   ],
   "source": [
    "tup1=(1,8,3,6,7,46,77,89,2,5)\n",
    "i=0\n",
    "a=int(input(\"enter number:\"))\n",
    "while i<len(tup1):\n",
    " if tup1[i] == a:print(i+1)\n",
    " i+=1"
   ]
  },
  {
   "cell_type": "code",
   "execution_count": null,
   "id": "c8c4e920",
   "metadata": {},
   "outputs": [],
   "source": []
  }
 ],
 "metadata": {
  "kernelspec": {
   "display_name": "Python 3 (ipykernel)",
   "language": "python",
   "name": "python3"
  },
  "language_info": {
   "codemirror_mode": {
    "name": "ipython",
    "version": 3
   },
   "file_extension": ".py",
   "mimetype": "text/x-python",
   "name": "python",
   "nbconvert_exporter": "python",
   "pygments_lexer": "ipython3",
   "version": "3.9.13"
  }
 },
 "nbformat": 4,
 "nbformat_minor": 5
}
